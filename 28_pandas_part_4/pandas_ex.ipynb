{
 "cells": [
  {
   "cell_type": "code",
   "execution_count": null,
   "id": "08f7bfa7",
   "metadata": {},
   "outputs": [],
   "source": [
    "import pandas as pd\n",
    "import numpy as np"
   ]
  },
  {
   "cell_type": "markdown",
   "id": "ccade356",
   "metadata": {},
   "source": [
    "### Misellaneous Topics"
   ]
  },
  {
   "cell_type": "markdown",
   "id": "cee65db8",
   "metadata": {},
   "source": [
    "##### 1. How to handle the duplicate entries?"
   ]
  },
  {
   "cell_type": "code",
   "execution_count": null,
   "id": "49e83b33",
   "metadata": {},
   "outputs": [],
   "source": [
    "data = pd.DataFrame({'k1': ['one', 'two'] * 3 + ['two'],\n",
    "                     'k2': [1, 1, 2, 3, 3, 4, 4]})\n",
    "data"
   ]
  },
  {
   "cell_type": "code",
   "execution_count": null,
   "id": "df2df61b",
   "metadata": {},
   "outputs": [],
   "source": [
    "data.duplicated()"
   ]
  },
  {
   "cell_type": "code",
   "execution_count": null,
   "id": "ebc7ebc2",
   "metadata": {},
   "outputs": [],
   "source": [
    "data.drop_duplicates()"
   ]
  },
  {
   "cell_type": "code",
   "execution_count": null,
   "id": "bbc5cdb3",
   "metadata": {},
   "outputs": [],
   "source": [
    "data['v1'] = range(7)\n",
    "data"
   ]
  },
  {
   "cell_type": "code",
   "execution_count": null,
   "id": "6a3fb632",
   "metadata": {},
   "outputs": [],
   "source": [
    "data.duplicated(['k2', 'v1'])"
   ]
  },
  {
   "cell_type": "code",
   "execution_count": null,
   "id": "29da4306",
   "metadata": {},
   "outputs": [],
   "source": [
    "data.drop_duplicates(['k1'])"
   ]
  },
  {
   "cell_type": "code",
   "execution_count": null,
   "id": "ec36cda2",
   "metadata": {},
   "outputs": [],
   "source": [
    "data.drop_duplicates(['k1', 'k2'])"
   ]
  },
  {
   "cell_type": "code",
   "execution_count": null,
   "id": "bb0c517d",
   "metadata": {},
   "outputs": [],
   "source": [
    "data.drop_duplicates(['k1', 'k2'], keep='last')"
   ]
  },
  {
   "cell_type": "markdown",
   "id": "005ca137",
   "metadata": {},
   "source": [
    "##### 2. Transforming values by mapping"
   ]
  },
  {
   "cell_type": "code",
   "execution_count": null,
   "id": "8c0a4db5",
   "metadata": {},
   "outputs": [],
   "source": [
    "data = pd.DataFrame({'food': ['bacon', 'pulled pork', 'bacon',\n",
    "                              'Pastrami', 'corned beef', 'Bacon',\n",
    "                              'pastrami', 'honey ham', 'nova lox'],\n",
    "                     'ounces': [4, 3, 12, 6, 7.5, 8, 3, 5, 6]})\n",
    "data"
   ]
  },
  {
   "cell_type": "code",
   "execution_count": null,
   "id": "566f6570",
   "metadata": {},
   "outputs": [],
   "source": [
    "lowercased = data['food'].str.lower()\n",
    "lowercased"
   ]
  },
  {
   "cell_type": "code",
   "execution_count": null,
   "id": "43ab32c8",
   "metadata": {},
   "outputs": [],
   "source": [
    "data['food'] = lowercased\n",
    "data"
   ]
  },
  {
   "cell_type": "code",
   "execution_count": null,
   "id": "dcccc884",
   "metadata": {},
   "outputs": [],
   "source": [
    "meat_to_animal = {\n",
    "  'bacon': 'pig',\n",
    "  'pulled pork': 'pig',\n",
    "  'pastrami': 'cow',\n",
    "  'corned beef': 'cow',\n",
    "  'honey ham': 'pig',\n",
    "  'nova lox': 'salmon'\n",
    "}"
   ]
  },
  {
   "cell_type": "code",
   "execution_count": null,
   "id": "d1f409d6",
   "metadata": {},
   "outputs": [],
   "source": [
    "data['animal'] = lowercased.map(meat_to_animal)"
   ]
  },
  {
   "cell_type": "code",
   "execution_count": null,
   "id": "532d0dc0",
   "metadata": {},
   "outputs": [],
   "source": [
    "data"
   ]
  },
  {
   "cell_type": "markdown",
   "id": "72e5d3b0",
   "metadata": {},
   "source": [
    "##### 3. Replacing values"
   ]
  },
  {
   "cell_type": "code",
   "execution_count": null,
   "id": "cfcacc82",
   "metadata": {},
   "outputs": [],
   "source": [
    "data = pd.Series([1., -999., 2., -999., -1000., 3.])\n",
    "data"
   ]
  },
  {
   "cell_type": "code",
   "execution_count": null,
   "id": "23d25bc5",
   "metadata": {},
   "outputs": [],
   "source": [
    "data.replace(-999, np.nan)"
   ]
  },
  {
   "cell_type": "code",
   "execution_count": null,
   "id": "c0c75e17",
   "metadata": {},
   "outputs": [],
   "source": [
    "data.replace([-999, -1000], 0)"
   ]
  },
  {
   "cell_type": "code",
   "execution_count": null,
   "id": "7d68efdf",
   "metadata": {},
   "outputs": [],
   "source": [
    "data.replace([-999, -1000], [999, 1000])"
   ]
  },
  {
   "cell_type": "code",
   "execution_count": null,
   "id": "87a337a2",
   "metadata": {},
   "outputs": [],
   "source": [
    "data.dtype"
   ]
  },
  {
   "cell_type": "markdown",
   "id": "06ed8052",
   "metadata": {},
   "source": [
    "##### 4. Axis renaming"
   ]
  },
  {
   "cell_type": "code",
   "execution_count": null,
   "id": "460e5ea1",
   "metadata": {},
   "outputs": [],
   "source": [
    "data = pd.DataFrame(np.arange(12).reshape((3, 4)),\n",
    "                    index=['Ohio', 'Colorado', 'New York'],\n",
    "                    columns=['one', 'two', 'three', 'four'])\n",
    "data"
   ]
  },
  {
   "cell_type": "code",
   "execution_count": null,
   "id": "274292c6",
   "metadata": {},
   "outputs": [],
   "source": [
    "data.index = data.index.map(lambda x : x.upper())\n",
    "data"
   ]
  },
  {
   "cell_type": "code",
   "execution_count": null,
   "id": "22526d31",
   "metadata": {},
   "outputs": [],
   "source": [
    "data.columns"
   ]
  },
  {
   "cell_type": "code",
   "execution_count": null,
   "id": "70a411ca",
   "metadata": {},
   "outputs": [],
   "source": [
    "data.rename(index=str.title, columns=str.upper)"
   ]
  },
  {
   "cell_type": "code",
   "execution_count": null,
   "id": "bf61701c",
   "metadata": {},
   "outputs": [],
   "source": [
    "data.rename(index={'OHIO':'California'}, columns={'one':1, 'two':2, 'three':3, 'four': 4})"
   ]
  },
  {
   "cell_type": "code",
   "execution_count": null,
   "id": "bc954b0f",
   "metadata": {},
   "outputs": [],
   "source": [
    "data.columns=('a', 'b', 'c', 'd')\n",
    "data"
   ]
  },
  {
   "cell_type": "markdown",
   "id": "88fa6506",
   "metadata": {},
   "source": [
    "##### 5. Discreetization and binning"
   ]
  },
  {
   "cell_type": "code",
   "execution_count": null,
   "id": "c2115150",
   "metadata": {},
   "outputs": [],
   "source": [
    "ages = [20, 22, 25, 27, 21, 23, 37, 31, 61, 45, 41, 32]"
   ]
  },
  {
   "cell_type": "code",
   "execution_count": null,
   "id": "b14be9c0",
   "metadata": {},
   "outputs": [],
   "source": [
    "bins = [18, 25, 35, 60, 100]"
   ]
  },
  {
   "cell_type": "code",
   "execution_count": null,
   "id": "748c300e",
   "metadata": {},
   "outputs": [],
   "source": [
    "cats = pd.cut(ages, bins)"
   ]
  },
  {
   "cell_type": "code",
   "execution_count": null,
   "id": "8c3a9371",
   "metadata": {},
   "outputs": [],
   "source": [
    "cats"
   ]
  },
  {
   "cell_type": "code",
   "execution_count": null,
   "id": "a8f42ce4",
   "metadata": {},
   "outputs": [],
   "source": [
    "cats.codes"
   ]
  },
  {
   "cell_type": "code",
   "execution_count": null,
   "id": "456be9ee",
   "metadata": {},
   "outputs": [],
   "source": [
    "cats.categories"
   ]
  },
  {
   "cell_type": "code",
   "execution_count": null,
   "id": "98e1bde0",
   "metadata": {},
   "outputs": [],
   "source": [
    "groups = ['Youth', 'Young Adult', 'Middle Aged', 'Senior']"
   ]
  },
  {
   "cell_type": "code",
   "execution_count": null,
   "id": "a0231f8b",
   "metadata": {},
   "outputs": [],
   "source": [
    "cats = pd.cut(ages, bins, labels=groups)"
   ]
  },
  {
   "cell_type": "code",
   "execution_count": null,
   "id": "1a2efeb2",
   "metadata": {},
   "outputs": [],
   "source": [
    "cats"
   ]
  },
  {
   "cell_type": "code",
   "execution_count": null,
   "id": "da4cf9f0",
   "metadata": {},
   "outputs": [],
   "source": []
  },
  {
   "cell_type": "code",
   "execution_count": null,
   "id": "e5821dbc",
   "metadata": {},
   "outputs": [],
   "source": [
    "data = np.random.randn(1000)"
   ]
  },
  {
   "cell_type": "code",
   "execution_count": null,
   "id": "c52d66b2",
   "metadata": {},
   "outputs": [],
   "source": [
    "min(data)"
   ]
  },
  {
   "cell_type": "code",
   "execution_count": null,
   "id": "4c068327",
   "metadata": {},
   "outputs": [],
   "source": [
    "max(data)"
   ]
  },
  {
   "cell_type": "code",
   "execution_count": null,
   "id": "77266726",
   "metadata": {},
   "outputs": [],
   "source": [
    "cats = pd.qcut(data, 4)\n",
    "cats"
   ]
  },
  {
   "cell_type": "code",
   "execution_count": null,
   "id": "61127ea8",
   "metadata": {},
   "outputs": [],
   "source": [
    "pd.value_counts(cats)"
   ]
  },
  {
   "cell_type": "code",
   "execution_count": null,
   "id": "e87131f0",
   "metadata": {},
   "outputs": [],
   "source": [
    "cats = pd.qcut(data, 10)\n",
    "pd.value_counts(cats)"
   ]
  },
  {
   "cell_type": "markdown",
   "id": "bfa61a6c",
   "metadata": {},
   "source": [
    "##### 5. Outliers"
   ]
  },
  {
   "cell_type": "code",
   "execution_count": 82,
   "id": "680aca0d",
   "metadata": {},
   "outputs": [
    {
     "data": {
      "text/html": [
       "<div>\n",
       "<style scoped>\n",
       "    .dataframe tbody tr th:only-of-type {\n",
       "        vertical-align: middle;\n",
       "    }\n",
       "\n",
       "    .dataframe tbody tr th {\n",
       "        vertical-align: top;\n",
       "    }\n",
       "\n",
       "    .dataframe thead th {\n",
       "        text-align: right;\n",
       "    }\n",
       "</style>\n",
       "<table border=\"1\" class=\"dataframe\">\n",
       "  <thead>\n",
       "    <tr style=\"text-align: right;\">\n",
       "      <th></th>\n",
       "      <th>0</th>\n",
       "      <th>1</th>\n",
       "      <th>2</th>\n",
       "      <th>3</th>\n",
       "    </tr>\n",
       "  </thead>\n",
       "  <tbody>\n",
       "    <tr>\n",
       "      <th>count</th>\n",
       "      <td>1000.000000</td>\n",
       "      <td>1000.000000</td>\n",
       "      <td>1000.000000</td>\n",
       "      <td>1000.000000</td>\n",
       "    </tr>\n",
       "    <tr>\n",
       "      <th>mean</th>\n",
       "      <td>-0.072589</td>\n",
       "      <td>-0.008734</td>\n",
       "      <td>0.000364</td>\n",
       "      <td>-0.022832</td>\n",
       "    </tr>\n",
       "    <tr>\n",
       "      <th>std</th>\n",
       "      <td>0.980357</td>\n",
       "      <td>0.968790</td>\n",
       "      <td>1.009875</td>\n",
       "      <td>0.981031</td>\n",
       "    </tr>\n",
       "    <tr>\n",
       "      <th>min</th>\n",
       "      <td>-3.376201</td>\n",
       "      <td>-2.951379</td>\n",
       "      <td>-3.053876</td>\n",
       "      <td>-2.876578</td>\n",
       "    </tr>\n",
       "    <tr>\n",
       "      <th>25%</th>\n",
       "      <td>-0.750996</td>\n",
       "      <td>-0.668407</td>\n",
       "      <td>-0.666486</td>\n",
       "      <td>-0.695222</td>\n",
       "    </tr>\n",
       "    <tr>\n",
       "      <th>50%</th>\n",
       "      <td>-0.057580</td>\n",
       "      <td>-0.022040</td>\n",
       "      <td>-0.019084</td>\n",
       "      <td>-0.024977</td>\n",
       "    </tr>\n",
       "    <tr>\n",
       "      <th>75%</th>\n",
       "      <td>0.580755</td>\n",
       "      <td>0.618539</td>\n",
       "      <td>0.681239</td>\n",
       "      <td>0.629729</td>\n",
       "    </tr>\n",
       "    <tr>\n",
       "      <th>max</th>\n",
       "      <td>3.979187</td>\n",
       "      <td>3.583788</td>\n",
       "      <td>2.783527</td>\n",
       "      <td>3.744535</td>\n",
       "    </tr>\n",
       "  </tbody>\n",
       "</table>\n",
       "</div>"
      ],
      "text/plain": [
       "                 0            1            2            3\n",
       "count  1000.000000  1000.000000  1000.000000  1000.000000\n",
       "mean     -0.072589    -0.008734     0.000364    -0.022832\n",
       "std       0.980357     0.968790     1.009875     0.981031\n",
       "min      -3.376201    -2.951379    -3.053876    -2.876578\n",
       "25%      -0.750996    -0.668407    -0.666486    -0.695222\n",
       "50%      -0.057580    -0.022040    -0.019084    -0.024977\n",
       "75%       0.580755     0.618539     0.681239     0.629729\n",
       "max       3.979187     3.583788     2.783527     3.744535"
      ]
     },
     "execution_count": 82,
     "metadata": {},
     "output_type": "execute_result"
    }
   ],
   "source": [
    "data = pd.DataFrame(np.random.randn(1000, 4))\n",
    "data.describe()"
   ]
  },
  {
   "cell_type": "code",
   "execution_count": null,
   "id": "9a03b0b1",
   "metadata": {},
   "outputs": [],
   "source": [
    "data.head()"
   ]
  },
  {
   "cell_type": "code",
   "execution_count": null,
   "id": "21aa61b6",
   "metadata": {},
   "outputs": [],
   "source": [
    "col = data[2]"
   ]
  },
  {
   "cell_type": "code",
   "execution_count": null,
   "id": "926a1f14",
   "metadata": {},
   "outputs": [],
   "source": [
    "max(col)"
   ]
  },
  {
   "cell_type": "code",
   "execution_count": null,
   "id": "a89b309d",
   "metadata": {},
   "outputs": [],
   "source": [
    "col[np.abs(col)>3]"
   ]
  },
  {
   "cell_type": "code",
   "execution_count": null,
   "id": "b4d1f523",
   "metadata": {},
   "outputs": [],
   "source": [
    "data[(np.abs(col)>3)]"
   ]
  },
  {
   "cell_type": "code",
   "execution_count": null,
   "id": "96445006",
   "metadata": {},
   "outputs": [],
   "source": [
    "data[(np.abs(data)>3).any(1)]"
   ]
  },
  {
   "cell_type": "code",
   "execution_count": null,
   "id": "273a5254",
   "metadata": {},
   "outputs": [],
   "source": [
    "data.describe()"
   ]
  },
  {
   "cell_type": "code",
   "execution_count": null,
   "id": "fa0f3e44",
   "metadata": {},
   "outputs": [],
   "source": [
    "(0.726400 + 0.648128) * 1.5"
   ]
  },
  {
   "cell_type": "code",
   "execution_count": null,
   "id": "2d05b224",
   "metadata": {},
   "outputs": [],
   "source": [
    "data[(np.abs(data)>3).any(1)].index"
   ]
  },
  {
   "cell_type": "code",
   "execution_count": null,
   "id": "b7af0c1e",
   "metadata": {},
   "outputs": [],
   "source": [
    "data.drop(data[(np.abs(data)>3).any(1)].index, inplace=True)"
   ]
  },
  {
   "cell_type": "code",
   "execution_count": null,
   "id": "de4029e5",
   "metadata": {},
   "outputs": [],
   "source": [
    "data[(np.abs(data)>3).any(1)]"
   ]
  },
  {
   "cell_type": "code",
   "execution_count": 83,
   "id": "cfe1ead3",
   "metadata": {},
   "outputs": [
    {
     "data": {
      "text/plain": [
       "<AxesSubplot:>"
      ]
     },
     "execution_count": 83,
     "metadata": {},
     "output_type": "execute_result"
    },
    {
     "data": {
      "image/png": "[encoded data removed]",
      "text/plain": [
       "<Figure size 432x288 with 1 Axes>"
      ]
     },
     "metadata": {
      "needs_background": "light"
     },
     "output_type": "display_data"
    }
   ],
   "source": [
    "data.boxplot()"
   ]
  },
  {
   "cell_type": "code",
   "execution_count": null,
   "id": "09027134",
   "metadata": {},
   "outputs": [],
   "source": []
  }
 ],
 "metadata": {
  "kernelspec": {
   "display_name": "Python 3 (ipykernel)",
   "language": "python",
   "name": "python3"
  },
  "language_info": {
   "codemirror_mode": {
    "name": "ipython",
    "version": 3
   },
   "file_extension": ".py",
   "mimetype": "text/x-python",
   "name": "python",
   "nbconvert_exporter": "python",
   "pygments_lexer": "ipython3",
   "version": "3.9.12"
  }
 },
 "nbformat": 4,
 "nbformat_minor": 5
}
