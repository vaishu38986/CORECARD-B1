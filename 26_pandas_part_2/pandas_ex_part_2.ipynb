{
 "cells": [
  {
   "cell_type": "code",
   "execution_count": null,
   "id": "cd3fc984",
   "metadata": {},
   "outputs": [],
   "source": [
    "import numpy as np\n",
    "import pandas as pd"
   ]
  },
  {
   "cell_type": "markdown",
   "id": "64e2beb1",
   "metadata": {},
   "source": [
    "### 1. Pandas Series"
   ]
  },
  {
   "cell_type": "code",
   "execution_count": null,
   "id": "4b68851c",
   "metadata": {},
   "outputs": [],
   "source": [
    "labels = ['a', 'b', 'c']\n",
    "mys_list = [10, 20, 30]\n",
    "arr = np.array([10, 20 , 30])\n",
    "d = { 'a':10, 'b':20, 'c':30 }"
   ]
  },
  {
   "cell_type": "code",
   "execution_count": null,
   "id": "004ad714",
   "metadata": {},
   "outputs": [],
   "source": [
    "pd.Series(data=mys_list)"
   ]
  },
  {
   "cell_type": "code",
   "execution_count": null,
   "id": "0bf63abc",
   "metadata": {},
   "outputs": [],
   "source": [
    "pd.Series(data=mys_list, index=labels)"
   ]
  },
  {
   "cell_type": "code",
   "execution_count": null,
   "id": "e45f414f",
   "metadata": {},
   "outputs": [],
   "source": [
    "pd.Series(arr, labels)"
   ]
  },
  {
   "cell_type": "code",
   "execution_count": null,
   "id": "783a5250",
   "metadata": {},
   "outputs": [],
   "source": [
    "pd.Series(d)"
   ]
  },
  {
   "cell_type": "code",
   "execution_count": null,
   "id": "210d654a",
   "metadata": {},
   "outputs": [],
   "source": [
    "pd.Series([sum, len, print])"
   ]
  },
  {
   "cell_type": "code",
   "execution_count": null,
   "id": "d7658450",
   "metadata": {},
   "outputs": [],
   "source": [
    "ser1 = pd.Series([1, 2, 3, 4], index=[\"USA\", \"Germany\", \"USSR\", \"Japan\"])\n",
    "ser2 = pd.Series([1, 2, 4, 6], index=[\"USA\", \"Germany\", \"Italy\", \"Japan\"])"
   ]
  },
  {
   "cell_type": "code",
   "execution_count": null,
   "id": "9fac5083",
   "metadata": {},
   "outputs": [],
   "source": [
    "ser1"
   ]
  },
  {
   "cell_type": "code",
   "execution_count": null,
   "id": "919c2872",
   "metadata": {},
   "outputs": [],
   "source": [
    "ser2"
   ]
  },
  {
   "cell_type": "code",
   "execution_count": null,
   "id": "6dcd4b17",
   "metadata": {},
   "outputs": [],
   "source": [
    "ser1 + ser2"
   ]
  },
  {
   "cell_type": "code",
   "execution_count": null,
   "id": "f4efde77",
   "metadata": {},
   "outputs": [],
   "source": [
    "ser1['USA'] + ser2['Italy']"
   ]
  },
  {
   "cell_type": "markdown",
   "id": "bbc972f6",
   "metadata": {},
   "source": [
    "### 2. Pandas Dataframe"
   ]
  },
  {
   "cell_type": "code",
   "execution_count": null,
   "id": "f57b8a3c",
   "metadata": {},
   "outputs": [],
   "source": [
    "from numpy.random import randn\n",
    "np.random.seed(101)"
   ]
  },
  {
   "cell_type": "code",
   "execution_count": null,
   "id": "3f09ed05",
   "metadata": {},
   "outputs": [],
   "source": [
    "randn(5, 4)"
   ]
  },
  {
   "cell_type": "code",
   "execution_count": null,
   "id": "bb4046d6",
   "metadata": {},
   "outputs": [],
   "source": [
    "df = pd.DataFrame(randn(5, 4), index='A B C D E'.split(), columns='W X Y Z'.split())\n",
    "df"
   ]
  },
  {
   "cell_type": "markdown",
   "id": "ff618ee2",
   "metadata": {},
   "source": [
    "##### Selecting a column"
   ]
  },
  {
   "cell_type": "code",
   "execution_count": null,
   "id": "79ea5090",
   "metadata": {},
   "outputs": [],
   "source": [
    "df[['W', 'Z']]"
   ]
  },
  {
   "cell_type": "code",
   "execution_count": null,
   "id": "b99bd3c2",
   "metadata": {},
   "outputs": [],
   "source": [
    "df[['W', 'Z']].loc[['C', 'D']]"
   ]
  },
  {
   "cell_type": "markdown",
   "id": "9d402195",
   "metadata": {},
   "source": [
    "##### Creating a new column"
   ]
  },
  {
   "cell_type": "code",
   "execution_count": null,
   "id": "697f1442",
   "metadata": {},
   "outputs": [],
   "source": [
    "df['new'] = df['W'] + df['X']\n",
    "df"
   ]
  },
  {
   "cell_type": "markdown",
   "id": "e8b673d4",
   "metadata": {},
   "source": [
    "##### Removing a columns"
   ]
  },
  {
   "cell_type": "code",
   "execution_count": null,
   "id": "dd3a0fd5",
   "metadata": {},
   "outputs": [],
   "source": [
    "df.drop('new', axis=1, inplace=True)\n",
    "df"
   ]
  },
  {
   "cell_type": "markdown",
   "id": "c15b7540",
   "metadata": {},
   "source": [
    "##### Select rows"
   ]
  },
  {
   "cell_type": "code",
   "execution_count": null,
   "id": "286b185f",
   "metadata": {},
   "outputs": [],
   "source": [
    "df.loc['A']"
   ]
  },
  {
   "cell_type": "code",
   "execution_count": null,
   "id": "80517029",
   "metadata": {},
   "outputs": [],
   "source": [
    "df.loc[['E', 'A', 'C', 'B']]"
   ]
  },
  {
   "cell_type": "code",
   "execution_count": null,
   "id": "98f3139c",
   "metadata": {},
   "outputs": [],
   "source": [
    "df.loc[['A', 'B'], ['X', 'Y']]"
   ]
  },
  {
   "cell_type": "code",
   "execution_count": null,
   "id": "e4cb2f8f",
   "metadata": {},
   "outputs": [],
   "source": [
    "df.loc['C', 'Z']"
   ]
  },
  {
   "cell_type": "code",
   "execution_count": null,
   "id": "c3002c95",
   "metadata": {},
   "outputs": [],
   "source": [
    "df.iloc[1, 3]"
   ]
  },
  {
   "cell_type": "code",
   "execution_count": null,
   "id": "8ebfe7f7",
   "metadata": {},
   "outputs": [],
   "source": [
    "df.iloc[[1, 2, 3], [0, 2]]"
   ]
  },
  {
   "cell_type": "markdown",
   "id": "d0836ab7",
   "metadata": {},
   "source": [
    "##### Conditional Selection"
   ]
  },
  {
   "cell_type": "code",
   "execution_count": null,
   "id": "44948daa",
   "metadata": {},
   "outputs": [],
   "source": [
    "df"
   ]
  },
  {
   "cell_type": "code",
   "execution_count": null,
   "id": "28d76629",
   "metadata": {},
   "outputs": [],
   "source": [
    "df > 0"
   ]
  },
  {
   "cell_type": "code",
   "execution_count": null,
   "id": "ac6cb0c7",
   "metadata": {},
   "outputs": [],
   "source": [
    "df[df > 0]"
   ]
  },
  {
   "cell_type": "code",
   "execution_count": null,
   "id": "cb4758a8",
   "metadata": {},
   "outputs": [],
   "source": [
    "df[df['W'] > 0]"
   ]
  },
  {
   "cell_type": "code",
   "execution_count": null,
   "id": "7b9058c2",
   "metadata": {},
   "outputs": [],
   "source": [
    "df[df['W'] > 0][['X', 'Y']]"
   ]
  },
  {
   "cell_type": "code",
   "execution_count": null,
   "id": "84e3b7d6",
   "metadata": {},
   "outputs": [],
   "source": [
    "df[(df['W'] > 0) & (df['Z'] > 1)]"
   ]
  },
  {
   "cell_type": "markdown",
   "id": "f7df5927",
   "metadata": {},
   "source": [
    "##### Working with indexes"
   ]
  },
  {
   "cell_type": "code",
   "execution_count": null,
   "id": "182c43ab",
   "metadata": {},
   "outputs": [],
   "source": [
    "df"
   ]
  },
  {
   "cell_type": "code",
   "execution_count": null,
   "id": "135018d0",
   "metadata": {},
   "outputs": [],
   "source": [
    "df.reset_index()"
   ]
  },
  {
   "cell_type": "code",
   "execution_count": null,
   "id": "27d05a90",
   "metadata": {},
   "outputs": [],
   "source": [
    "newind = ['CA', 'TX', 'NY', 'OR', 'DW']\n",
    "df['states'] = newind\n",
    "df"
   ]
  },
  {
   "cell_type": "code",
   "execution_count": null,
   "id": "4c5d534a",
   "metadata": {},
   "outputs": [],
   "source": [
    "df.set_index('states')"
   ]
  },
  {
   "cell_type": "markdown",
   "id": "276d1635",
   "metadata": {},
   "source": [
    "##### Creating hierarchical indexes"
   ]
  },
  {
   "cell_type": "code",
   "execution_count": null,
   "id": "3df9e9b7",
   "metadata": {},
   "outputs": [],
   "source": [
    "outside = ['G1', 'G1', 'G1', 'G2', 'G2', 'G2']\n",
    "inside = [1, 2, 3, 1, 2, 3]\n",
    "hier_index = list(zip(outside, inside))\n",
    "hier_index"
   ]
  },
  {
   "cell_type": "code",
   "execution_count": null,
   "id": "ef6628a2",
   "metadata": {},
   "outputs": [],
   "source": [
    "hier_index = pd.MultiIndex.from_tuples(hier_index)\n",
    "hier_index"
   ]
  },
  {
   "cell_type": "code",
   "execution_count": null,
   "id": "c4316b8b",
   "metadata": {},
   "outputs": [],
   "source": [
    "df = pd.DataFrame(np.random.randn(6, 2), index=hier_index, columns=['A', 'B'])\n",
    "df"
   ]
  },
  {
   "cell_type": "code",
   "execution_count": null,
   "id": "c9d1ecd8",
   "metadata": {},
   "outputs": [],
   "source": [
    "df.loc['G1']"
   ]
  },
  {
   "cell_type": "code",
   "execution_count": null,
   "id": "a3f9fd4b",
   "metadata": {},
   "outputs": [],
   "source": [
    "df.loc['G1'].loc[[1, 2]]"
   ]
  },
  {
   "cell_type": "code",
   "execution_count": null,
   "id": "39232ac5",
   "metadata": {},
   "outputs": [],
   "source": [
    "df.index.names"
   ]
  },
  {
   "cell_type": "code",
   "execution_count": null,
   "id": "7036af43",
   "metadata": {},
   "outputs": [],
   "source": [
    "df.index.names = ['Group', 'Level']\n",
    "df"
   ]
  },
  {
   "cell_type": "code",
   "execution_count": null,
   "id": "d0e89ac1",
   "metadata": {},
   "outputs": [],
   "source": [
    "# Alternative way to access dataframe\n",
    "df.xs('G1')"
   ]
  },
  {
   "cell_type": "code",
   "execution_count": null,
   "id": "0b932ce2",
   "metadata": {},
   "outputs": [],
   "source": [
    "df.xs(('G1', 1))"
   ]
  },
  {
   "cell_type": "code",
   "execution_count": null,
   "id": "ecc14afd",
   "metadata": {},
   "outputs": [],
   "source": [
    "df.xs(1, level='Level')"
   ]
  },
  {
   "cell_type": "code",
   "execution_count": null,
   "id": "1a2eff0f",
   "metadata": {},
   "outputs": [],
   "source": []
  }
 ],
 "metadata": {
  "kernelspec": {
   "display_name": "Python 3 (ipykernel)",
   "language": "python",
   "name": "python3"
  },
  "language_info": {
   "codemirror_mode": {
    "name": "ipython",
    "version": 3
   },
   "file_extension": ".py",
   "mimetype": "text/x-python",
   "name": "python",
   "nbconvert_exporter": "python",
   "pygments_lexer": "ipython3",
   "version": "3.9.12"
  }
 },
 "nbformat": 4,
 "nbformat_minor": 5
}
